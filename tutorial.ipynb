{
 "cells": [
  {
   "cell_type": "markdown",
   "id": "aaba2b7b-088c-48bb-9841-cbffd1dd627d",
   "metadata": {
    "tags": [],
    "user_expressions": []
   },
   "source": [
    "---\n",
    "title: pylbm tutorial\n",
    "authors: Loic Gouarin\n",
    "---"
   ]
  },
  {
   "cell_type": "markdown",
   "id": "a6659c34-be35-4bac-aa46-ffb9576c6861",
   "metadata": {
    "tags": [],
    "user_expressions": []
   },
   "source": [
    "A lattice Boltzmann scheme can be defined by\n",
    "\n",
    "- the velocities\n",
    "- the conserved moments\n",
    "- the transformation matrix from moments to distribution functions\n",
    "- the equilibrium\n",
    "- the relaxation parameters"
   ]
  },
  {
   "cell_type": "markdown",
   "id": "7a9d06f6-c2e4-4a4b-ac71-40ed0519031f",
   "metadata": {
    "tags": [],
    "user_expressions": []
   },
   "source": [
    "# The advection equation\n",
    "\n",
    "The problem reads\n",
    "$$\\partial_t u + c \\partial_x u = 0, \\quad t>0, \\quad x\\in(0, 1),$$\n",
    "\n",
    "where $c$ is a constant scalar (typically $c=1$). We will use periodic boundary conditions for simplicity.\n",
    "\n",
    "To simulate this equation, we use the ${\\mathrm D}_{1}{\\mathrm Q}_{2}$ scheme given by\n",
    "\n",
    "* two velocities $v_0=-1$, $v_1=1$, with associated distribution functions $f_{0}$ and $f_{1}$,\n",
    "* a space step $\\Delta x$ and a time step $\\Delta t$, the ration $\\lambda=\\Delta x/\\Delta t$ is called the scheme velocity,\n",
    "* two moments $m_{0}=\\sum_{i=0}^1f_{i}$ and $m_{1}=\\lambda \\sum_{i=0}^1 v_i f_{i}$ and their equilibrium values $m_{0}^e = m_{0}$, $m_{1}^e = c m_{0}$,\n",
    "* a relaxation parameter $s$ lying in $[0,2]$.\n",
    "\n",
    "In order to prepare the formalism of the package pylbm, we introduce the two polynomials that define the moments: $P_0 = 1$ and $P_1=\\lambda X$, such that\n",
    "$$ \n",
    "m_{k} = \\sum_{i=0}^1 P_k(v_i) f_{i}.\n",
    "$$\n",
    "\n",
    "The transformation $(f_{0}, f_{1})\\mapsto(m_{0},m_{1})$ is invertible if, and only if, the polynomials $(P_0,P_1)$ is a free set over the stencil of velocities.\n",
    "\n",
    "The lattice Boltzmann method consists to compute the distribution functions $f_{0}$ and $f_{1}$ in each point of the lattice $x$ and at each time $t^n=n\\Delta t$.\n",
    "A step of the scheme can be read as a splitting between the relaxation phase and the transport phase:\n",
    "\n",
    "* relaxation: $$m_{1}^{\\star}(t,x)=(1-s)m_{1}(t,x)+sm_{1}^e(t,x).$$\n",
    "* m2f: \n",
    "$$\\begin{aligned}f_{0}^{\\star}(t,x)&\\;=(m_{0}(t,x)-m_{1}^e(t,x)/\\lambda)/2, \\\\ f_{1}^{\\star}(t,x)&\\;=(m_{0}(t,x)+m_{1}^{\\star}(t,x)/\\lambda)/2.\\end{aligned}\n",
    "$$\n",
    "* transport: $$f_{0}(t+\\Delta t, x)=f_{0}{\\star}(t,x+\\Delta x), \\qquad f_{1}(t+\\Delta t, x)=f_{1}{\\star}(t,x-\\Delta x).$$\n",
    "* f2m: \n",
    "$$\\begin{aligned}m_{0}(t+\\Delta t,x)&\\;=f_{0}(t+\\Delta t,x)+f_{1}(t+\\Delta t,x), \\\\ m_{1}(t+\\Delta t,x)&\\;=-\\lambda f_{0}(t+\\Delta t,x)+\\lambda f_{1}(t+\\Delta t,x).\\end{aligned}\n",
    "$$\n",
    "\n",
    "The moment of order $0$, $m_{0}$, being the only one conserved during the relaxation phase, the equivalent equation of this scheme reads at first order\n",
    "\n",
    "$$\\frac{\\partial}{\\partial t}m_{0} + \\frac{\\partial}{\\partial x} m_{1}^e = {\\mathcal O}(\\Delta t).$$\n",
    "\n",
    "We implement a function equilibrium that computes the equilibrium value $m_{1}^e$, the moment of order $0$, $m_{0}$, and the velocity $c$ being given in argument."
   ]
  },
  {
   "cell_type": "markdown",
   "id": "eb45202c-b51a-4aea-8725-a6eab1468217",
   "metadata": {
    "user_expressions": []
   },
   "source": [
    "## Define the velocities of your scheme"
   ]
  },
  {
   "cell_type": "code",
   "execution_count": null,
   "id": "5e77ce92-5f99-43ca-b469-6c2962d54d10",
   "metadata": {
    "jupyter": {
     "source_hidden": true
    },
    "tags": []
   },
   "outputs": [],
   "source": [
    "%matplotlib widget"
   ]
  },
  {
   "cell_type": "code",
   "execution_count": null,
   "id": "6f0c8c6e-8ef3-4a2c-a140-0d85bef5bf1f",
   "metadata": {
    "jupyter": {
     "source_hidden": true
    },
    "tags": []
   },
   "outputs": [],
   "source": [
    "import pylbm\n",
    "import numpy as np\n",
    "import ipywidgets as widgets\n",
    "import matplotlib.pyplot as plt"
   ]
  },
  {
   "cell_type": "code",
   "execution_count": null,
   "id": "c504c084-5888-42fa-9a00-7a1d1cac8339",
   "metadata": {
    "tags": []
   },
   "outputs": [],
   "source": [
    "s = pylbm.Stencil(\n",
    "    {\n",
    "        'dim': 1,\n",
    "        'schemes':\n",
    "        [\n",
    "            {\n",
    "                'velocities': list(range(3)) # equivalent to D1Q3\n",
    "            }\n",
    "        ]\n",
    "})\n",
    "s"
   ]
  },
  {
   "cell_type": "code",
   "execution_count": null,
   "id": "7a932f90-80b1-484c-bf9b-9fb74f410a36",
   "metadata": {
    "tags": []
   },
   "outputs": [],
   "source": [
    "s.visualize()"
   ]
  },
  {
   "cell_type": "code",
   "execution_count": null,
   "id": "56a2a29c-3a3c-4e6b-8acd-a402b270761e",
   "metadata": {
    "tags": []
   },
   "outputs": [],
   "source": [
    "dim = widgets.Dropdown(options=['1', '2', '3'], value='1',\n",
    "                       description='Dimension:',\n",
    "                       disabled=False)\n",
    "nv = widgets.IntSlider(0, min=1, max=100, description='number of vel.')\n",
    "plot = widgets.AppLayout()\n",
    "\n",
    "def update(change):\n",
    "    with plt.ioff():\n",
    "        s = pylbm.Stencil({'dim': int(dim.value),\n",
    "                       'schemes':[\n",
    "                              {'velocities': list(range(nv.value))}\n",
    "                      ]\n",
    "        })\n",
    "        canvas = s.visualize().fig.canvas\n",
    "        canvas.header_visible = False\n",
    "        canvas.footer_visible = False\n",
    "        plot.center = canvas\n",
    "\n",
    "nv.observe(update, names='value')\n",
    "dim.observe(update, names='value')\n",
    "\n",
    "update(None)\n",
    "box = widgets.VBox([plot, dim, nv])"
   ]
  },
  {
   "cell_type": "markdown",
   "id": "1a140efe-aeba-4341-80a6-37a91bb242e1",
   "metadata": {
    "tags": [],
    "user_expressions": [
     {
      "expression": "box",
      "result": {
       "data": {
        "application/vnd.jupyter.widget-view+json": {
         "model_id": "d5e2a9ce838c4ec79a569b3fa450f135",
         "version_major": 2,
         "version_minor": 0
        },
        "text/plain": "VBox(children=(AppLayout(children=(Canvas(footer_visible=False, header_visible=False, layout=Layout(grid_area=…"
       },
       "metadata": {},
       "status": "ok"
      }
     }
    ]
   },
   "source": [
    ":::{important} General stencil in any dimensions\n",
    ":class: dropdown\n",
    "{eval}`box`\n",
    ":::"
   ]
  },
  {
   "cell_type": "markdown",
   "id": "c4314490-c37b-46b9-b0b3-4aa6ccad9654",
   "metadata": {
    "user_expressions": []
   },
   "source": [
    "You can have several lattice Boltzmann schemes for your problem."
   ]
  },
  {
   "cell_type": "code",
   "execution_count": null,
   "id": "d4ef744c-046b-4771-a2af-a298d2c5b00d",
   "metadata": {
    "tags": []
   },
   "outputs": [],
   "source": [
    "s = pylbm.Stencil(\n",
    "    {\n",
    "        'dim': 2,\n",
    "        'schemes':\n",
    "        [\n",
    "               {\n",
    "                   'velocities': list(range(9))    # equivalent to D2Q9\n",
    "               },\n",
    "               {\n",
    "                   'velocities': list(range(1, 5)) # equivalent to D2Q4\n",
    "               }\n",
    "        ]\n",
    "})"
   ]
  },
  {
   "cell_type": "code",
   "execution_count": null,
   "id": "15ec010a-db1f-4933-b972-28e381d73628",
   "metadata": {
    "tags": []
   },
   "outputs": [],
   "source": [
    "s.visualize()"
   ]
  },
  {
   "cell_type": "markdown",
   "id": "aaceed83-accc-4523-b625-df48b030da1f",
   "metadata": {
    "user_expressions": []
   },
   "source": [
    "## Build your scheme"
   ]
  },
  {
   "cell_type": "markdown",
   "id": "1015ed07-d44b-43b5-8b4c-b7dd0ef6bbcb",
   "metadata": {
    "user_expressions": []
   },
   "source": [
    "- Create the symbolic variables used by the scheme"
   ]
  },
  {
   "cell_type": "code",
   "execution_count": null,
   "id": "e95cda23-0db3-4249-9f72-667e547bf747",
   "metadata": {
    "tags": []
   },
   "outputs": [],
   "source": [
    "import sympy as sp\n",
    "\n",
    "u, la, X, eq = sp.symbols(\"u lambda X eq\")\n",
    "sigma_0 = sp.symbols(\"sigma_0\")\n",
    "s_0 = 1 / (0.5 + sigma_0) "
   ]
  },
  {
   "cell_type": "markdown",
   "id": "8930e9a3-926e-4e83-a85e-94a0bb2c39ca",
   "metadata": {
    "tags": [],
    "user_expressions": []
   },
   "source": [
    "- Define your scheme using a Python dictionary"
   ]
  },
  {
   "cell_type": "code",
   "execution_count": null,
   "id": "ee983e4d-0a60-438d-b37b-0388f7e30e59",
   "metadata": {},
   "outputs": [],
   "source": [
    "cfg = {\n",
    "    \"dim\": 1,\n",
    "    \"scheme_velocity\": la,\n",
    "    \"schemes\":\n",
    "    [\n",
    "        {\n",
    "            \"velocities\": [1, 2],\n",
    "             \"conserved_moments\": u,\n",
    "             \"polynomials\": [1, X],\n",
    "             \"relaxation_parameters\": [0, s_0],\n",
    "             \"equilibrium\": [u, eq],\n",
    "        },\n",
    "    ],\n",
    "}"
   ]
  },
  {
   "cell_type": "code",
   "execution_count": null,
   "id": "6de7070a-ea3c-4173-a622-5ef0723381d5",
   "metadata": {
    "tags": []
   },
   "outputs": [],
   "source": [
    "scheme = pylbm.Scheme(cfg)"
   ]
  },
  {
   "cell_type": "code",
   "execution_count": null,
   "id": "b307eedc-6a0d-4cde-8b5e-8caca97e9bdc",
   "metadata": {
    "tags": []
   },
   "outputs": [],
   "source": [
    "print(scheme)"
   ]
  },
  {
   "cell_type": "markdown",
   "id": "a2b76386-7456-4014-8a2d-1958e2f814f1",
   "metadata": {
    "user_expressions": []
   },
   "source": [
    "- What kind of equation am I solving ?"
   ]
  },
  {
   "cell_type": "code",
   "execution_count": null,
   "id": "d140efad-3faf-4a50-a59f-9f0736680aa6",
   "metadata": {
    "tags": []
   },
   "outputs": [],
   "source": [
    "print(pylbm.EquivalentEquation(scheme))"
   ]
  },
  {
   "cell_type": "markdown",
   "id": "a778e3d2-476d-4672-8897-531d495dbe2b",
   "metadata": {
    "user_expressions": []
   },
   "source": [
    "- Fix the equilibrium to solve the advection equation"
   ]
  },
  {
   "cell_type": "code",
   "execution_count": null,
   "id": "9b2579af-375a-46b6-a97c-ac95250ccc6b",
   "metadata": {
    "tags": []
   },
   "outputs": [],
   "source": [
    "c = sp.symbols(\"c\")\n",
    "\n",
    "cfg = {\n",
    "    \"dim\": 1,\n",
    "    \"scheme_velocity\": la,\n",
    "    \"schemes\":\n",
    "    [\n",
    "        {\n",
    "            \"velocities\": [1, 2],\n",
    "             \"conserved_moments\": u,\n",
    "             \"polynomials\": [1, X],\n",
    "             \"relaxation_parameters\": [0, s_0],\n",
    "             \"equilibrium\": [u, c*u],\n",
    "        },\n",
    "    ]\n",
    "}"
   ]
  },
  {
   "cell_type": "code",
   "execution_count": null,
   "id": "480a82ba-2c19-416a-adb7-2b5069124474",
   "metadata": {
    "tags": []
   },
   "outputs": [],
   "source": [
    "print(pylbm.EquivalentEquation(pylbm.Scheme(cfg)))"
   ]
  },
  {
   "cell_type": "markdown",
   "id": "dff62418-2d0d-45c1-b827-fe7c0a984b6c",
   "metadata": {
    "user_expressions": []
   },
   "source": [
    "## Same exercise with viscous Burgers equation\n",
    "\n",
    "The equation reads\n",
    "\n",
    "$$\n",
    "\\partial_t u + \\partial_x \\left(\\frac{u^2}{2}\\right) - \\nu \\partial_{xx} u = 0.\n",
    "$$"
   ]
  },
  {
   "cell_type": "code",
   "execution_count": null,
   "id": "c6d7a48b-04c8-430f-b133-8e1e283482bf",
   "metadata": {
    "tags": []
   },
   "outputs": [],
   "source": [
    "import sympy as sp\n",
    "import pylbm\n",
    "\n",
    "c = sp.symbols(\"c\")\n",
    "sigma_0 = sp.symbols(\"sigma_0\")\n",
    "sigma_1 = sp.symbols(\"sigma_1\")\n",
    "s_0 = 1 / (0.5 + sigma_0) \n",
    "s_1 = 1 / (0.5 + sigma_1) \n",
    "eq_0, eq_1 = sp.symbols(\"eq_0 eq_1\")\n",
    "eq_0 = sp.Function(\"eq_0\")\n",
    "eq_1 = sp.Function(\"eq_1\")"
   ]
  },
  {
   "cell_type": "code",
   "execution_count": null,
   "id": "db5a58ed-aa6b-4dd7-bf28-fc5af624b32a",
   "metadata": {
    "tags": []
   },
   "outputs": [],
   "source": [
    "cfg = {\n",
    "    \"dim\": 1,\n",
    "    \"scheme_velocity\": la,\n",
    "    \"schemes\":\n",
    "    [\n",
    "        {\n",
    "            \"velocities\": [0, 1, 2],\n",
    "             \"conserved_moments\": u,\n",
    "             \"polynomials\": [1, X, X**2/2],\n",
    "             \"relaxation_parameters\": [0, s_0, s_1],\n",
    "             \"equilibrium\": [u, eq_0(u), eq_1(u)],\n",
    "        },\n",
    "    ]\n",
    "}"
   ]
  },
  {
   "cell_type": "code",
   "execution_count": null,
   "id": "a2acf486-73c3-4acb-8120-c864087a1baa",
   "metadata": {
    "tags": []
   },
   "outputs": [],
   "source": [
    "print(pylbm.EquivalentEquation(pylbm.Scheme(cfg)))"
   ]
  },
  {
   "cell_type": "code",
   "execution_count": null,
   "id": "544b73df-43cd-4116-9e6c-363ec4d09e96",
   "metadata": {
    "tags": []
   },
   "outputs": [],
   "source": [
    "cfg[\"schemes\"][0][\"equilibrium\"] = [u, u**2/2, eq_1(u)]\n",
    "\n",
    "print(pylbm.EquivalentEquation(pylbm.Scheme(cfg)))"
   ]
  },
  {
   "cell_type": "code",
   "execution_count": null,
   "id": "4c01c638-3a61-46c5-a7c9-c12dd722623c",
   "metadata": {
    "tags": []
   },
   "outputs": [],
   "source": [
    "alpha, beta = sp.symbols(\"alpha beta\")\n",
    "\n",
    "cfg[\"schemes\"][0][\"equilibrium\"] = [u, u**2/2, alpha*u + beta*u**3]\n",
    "\n",
    "print(pylbm.EquivalentEquation(pylbm.Scheme(cfg)))"
   ]
  },
  {
   "cell_type": "markdown",
   "id": "319b642c-b84d-482c-a7ba-21b7f3fdd1e3",
   "metadata": {
    "tags": [],
    "user_expressions": []
   },
   "source": [
    "## Run the simulation"
   ]
  },
  {
   "cell_type": "code",
   "execution_count": null,
   "id": "b78ec5c5-78c0-4137-9851-9dfd93b01c43",
   "metadata": {
    "tags": []
   },
   "outputs": [],
   "source": [
    "def u_init(x):\n",
    "    u = np.zeros_like(x)\n",
    "    u[np.logical_and(x > .4, x < .6)] = 1\n",
    "    return u"
   ]
  },
  {
   "cell_type": "code",
   "execution_count": null,
   "id": "64047ad3-4602-41c0-b206-c4338b955d0f",
   "metadata": {
    "tags": []
   },
   "outputs": [],
   "source": [
    "cfg = {\n",
    "    \"box\":\n",
    "    {\n",
    "        \"x\": [0, 1], \n",
    "        \"label\": -1\n",
    "    },\n",
    "    \"space_step\": 0.01,\n",
    "    \"scheme_velocity\": la,\n",
    "    \"schemes\": \n",
    "    [\n",
    "        {\n",
    "            \"velocities\": [1, 2],\n",
    "            \"conserved_moments\": u,\n",
    "            \"polynomials\": [1, X],\n",
    "            \"relaxation_parameters\": [0, s_0],\n",
    "            \"equilibrium\": [u, c * u],\n",
    "        },\n",
    "    ],\n",
    "    \"init\": {u: u_init},\n",
    "    \"parameters\": \n",
    "    {\n",
    "        la: 1, \n",
    "        c: 1.,\n",
    "        sigma_0: 0.01\n",
    "    },\n",
    "}"
   ]
  },
  {
   "cell_type": "code",
   "execution_count": null,
   "id": "45e0df5e-0f30-4a3f-a627-8e2a00ab8254",
   "metadata": {
    "tags": []
   },
   "outputs": [],
   "source": [
    "simu = pylbm.Simulation(cfg)"
   ]
  },
  {
   "cell_type": "code",
   "execution_count": null,
   "id": "9d217acd-c44f-4124-bd7d-974d6bef5902",
   "metadata": {
    "tags": []
   },
   "outputs": [],
   "source": [
    "print(simu)"
   ]
  },
  {
   "cell_type": "code",
   "execution_count": null,
   "id": "4a44e3a0-7a02-4ce8-a5ba-2e0ef44d84cd",
   "metadata": {
    "tags": []
   },
   "outputs": [],
   "source": [
    "viewer = pylbm.viewer.matplotlib_viewer\n",
    "fig = viewer.Fig()\n",
    "ax = fig[0]\n",
    "\n",
    "l1a = ax.plot(simu.domain.x, simu.m[u])[0]\n",
    "\n",
    "def update(iframe):  \n",
    "    simu.one_time_step()\n",
    "    l1a.set_data(simu.domain.x, simu.m[u])\n",
    "    ax.title = r\"advection at $t = {0:f}$\".format(simu.t)\n",
    "\n",
    "fig.animate(update)\n",
    "fig.show()"
   ]
  },
  {
   "cell_type": "markdown",
   "id": "300c5e76-b327-445f-9a7c-e7fb127b255f",
   "metadata": {
    "user_expressions": []
   },
   "source": [
    "# A more complex example"
   ]
  },
  {
   "cell_type": "code",
   "execution_count": null,
   "id": "f9294049-0d83-4375-9f19-a8c06ac22ad6",
   "metadata": {
    "jupyter": {
     "source_hidden": true
    },
    "tags": []
   },
   "outputs": [],
   "source": [
    "import numpy as np\n",
    "import sympy as sp\n",
    "import pylbm\n",
    "\n",
    "X, Y, LA = sp.symbols('X, Y, LA')\n",
    "rho, qx, qy, T = sp.symbols('rho, qx, qy, T')\n",
    "\n",
    "def bc(f, m, x, y):\n",
    "    m[qx] = 0.\n",
    "    m[qy] = 0.\n",
    "    m[T] = T0\n",
    "\n",
    "def bc_in(f, m, x, y):\n",
    "    np.random.seed(1)\n",
    "    m[qx] = rhoo*uo\n",
    "    m[qy] = 0.\n",
    "    m[T] = T0 + (Tin - T0)*(ymax-y)*(y-.8)*100\n",
    "\n",
    "# parameters\n",
    "Tf = 100.\n",
    "T0 = .5\n",
    "Tin = -.5\n",
    "xmin, xmax, ymin, ymax = 0., 1., 0., 1.\n",
    "Ra = 2000\n",
    "Pr = 0.71\n",
    "Ma = 0.01\n",
    "alpha = .005\n",
    "dx = 1./256 # spatial step\n",
    "la = 1. # velocity of the scheme\n",
    "rhoo = 1.\n",
    "g = 9.81\n",
    "uo = 0.025\n",
    "\n",
    "nu = np.sqrt(Pr*alpha*9.81*(T0-Tin)*(ymax-ymin)/Ra)\n",
    "kappa = nu/Pr\n",
    "eta = nu\n",
    "snu = 1./(.5+3*nu)\n",
    "seta = 1./(.5+3*eta)\n",
    "sq = 8*(2-snu)/(8-snu)\n",
    "se = seta\n",
    "sf = [0., 0., 0., seta, se, sq, sq, snu, snu]\n",
    "a = .5\n",
    "skappa = 1./(.5+10*kappa/(4+a))\n",
    "se = 1./(.5+np.sqrt(3)/3)\n",
    "snu = se\n",
    "sT = [0., skappa, skappa, se, snu]"
   ]
  },
  {
   "cell_type": "code",
   "execution_count": null,
   "id": "3309c138-ce8a-4853-b1e5-d6474678c37b",
   "metadata": {
    "tags": []
   },
   "outputs": [],
   "source": [
    "dico = {\n",
    "    'box': {\n",
    "        'x': [xmin, xmax],\n",
    "        'y': [ymin, ymax],\n",
    "        'label': [1, 2, 0, 0]\n",
    "    },\n",
    "    'elements': [\n",
    "        pylbm.Parallelogram([xmin, ymin], [ .1, 0], [0, .8], label=0),\n",
    "        pylbm.Parallelogram([xmax, ymin], [-.1, 0], [0, .8], label=0),\n",
    "    ],\n",
    "    'space_step': dx,\n",
    "    'scheme_velocity': la,\n",
    "    'schemes': [\n",
    "        {\n",
    "            'velocities': list(range(9)),\n",
    "            'conserved_moments': [rho, qx, qy],\n",
    "            'polynomials':[\n",
    "                1, X, Y,\n",
    "                3*(X**2+Y**2)-4,\n",
    "                0.5*(9*(X**2+Y**2)**2-21*(X**2+Y**2)+8),\n",
    "                3*X*(X**2+Y**2)-5*X, 3*Y*(X**2+Y**2)-5*Y,\n",
    "                X**2-Y**2, X*Y\n",
    "            ],\n",
    "            'relaxation_parameters': sf,\n",
    "            'equilibrium':[\n",
    "                rho, qx, qy,\n",
    "                -2*rho + 3*(qx**2+qy**2),\n",
    "                rho - 3*(qx**2+qy**2),\n",
    "                -qx, -qy,\n",
    "                qx**2 - qy**2, qx*qy\n",
    "            ],\n",
    "            'source_terms': {qy: alpha*g*T},\n",
    "        },\n",
    "        {\n",
    "            'velocities': list(range(5)),\n",
    "            'conserved_moments': T,\n",
    "            'polynomials': [1, X, Y, 5*(X**2+Y**2) - 4, (X**2-Y**2)],\n",
    "            'equilibrium': [T, T*qx, T*qy, a*T, 0.],\n",
    "            'relaxation_parameters': sT,\n",
    "        },\n",
    "    ],\n",
    "    'init': {\n",
    "        rho: 1.,\n",
    "        qx: 0.,\n",
    "        qy: 0.,\n",
    "        T: T0,\n",
    "    },\n",
    "    'boundary_conditions': {\n",
    "        0: {'method': {0: pylbm.bc.BouzidiBounceBack, 1: pylbm.bc.BouzidiAntiBounceBack}, 'value': bc},\n",
    "        1: {'method': {0: pylbm.bc.BouzidiBounceBack, 1: pylbm.bc.BouzidiAntiBounceBack}, 'value': bc_in},\n",
    "        2: {'method': {0: pylbm.bc.NeumannY, 1: pylbm.bc.NeumannY}},\n",
    "    },\n",
    "    'generator': \"cython\",\n",
    "    \"show_code\": False\n",
    "}"
   ]
  },
  {
   "cell_type": "code",
   "execution_count": null,
   "id": "5e161a76-e6c5-4a3f-874a-6b8cfdc28fd0",
   "metadata": {
    "tags": []
   },
   "outputs": [],
   "source": [
    "sol = pylbm.Simulation(dico)"
   ]
  },
  {
   "cell_type": "code",
   "execution_count": null,
   "id": "5a06ce36-b41b-41ca-865e-6cd32aac7b9d",
   "metadata": {
    "tags": []
   },
   "outputs": [],
   "source": [
    "sol.domain.visualize(view_distance=True)"
   ]
  },
  {
   "cell_type": "code",
   "execution_count": null,
   "id": "75cf1a26-084b-47fc-90a6-c4746030c5c7",
   "metadata": {
    "tags": []
   },
   "outputs": [],
   "source": [
    "print(sol)"
   ]
  },
  {
   "cell_type": "code",
   "execution_count": null,
   "id": "95662930-07c7-454a-b681-bce3476854c7",
   "metadata": {
    "tags": []
   },
   "outputs": [],
   "source": [
    "# create the viewer to plot the solution\n",
    "viewer = pylbm.viewer.matplotlib_viewer\n",
    "fig = viewer.Fig()\n",
    "ax = fig[0]\n",
    "im = ax.image(sol.m[T].transpose(), cmap='RdBu', clim=[Tin, T0])\n",
    "ax.title = 'solution at t = {0:f}'.format(sol.t)\n",
    "ax.polygon([[xmin/dx, ymin/dx],\n",
    "            [xmin/dx, (ymin+.8)/dx],\n",
    "            [(xmin+.1)/dx, (ymin+.8)/dx],\n",
    "            [(xmin+.1)/dx, ymin/dx]], 'k')\n",
    "ax.polygon([[(xmax-.1)/dx, ymin/dx],\n",
    "            [(xmax-.1)/dx, (ymin+.8)/dx],\n",
    "            [xmax/dx, (ymin+.8)/dx],\n",
    "            [xmax/dx, ymin/dx]], 'k')\n",
    "\n",
    "def update(iframe):\n",
    "    nrep = 64\n",
    "    for i in range(nrep):\n",
    "        sol.one_time_step()\n",
    "    im.set_data(sol.m[T].transpose())\n",
    "    ax.title = 'temperature at t = {0:f}'.format(sol.t)\n",
    "\n",
    "fig.animate(update)\n",
    "fig.show()"
   ]
  },
  {
   "cell_type": "code",
   "execution_count": null,
   "id": "8b4abf81-b2c7-4a54-9173-ce32e1845b3a",
   "metadata": {},
   "outputs": [],
   "source": []
  }
 ],
 "metadata": {
  "kernelspec": {
   "display_name": "Python 3 (ipykernel)",
   "language": "python",
   "name": "python3"
  },
  "language_info": {
   "codemirror_mode": {
    "name": "ipython",
    "version": 3
   },
   "file_extension": ".py",
   "mimetype": "text/x-python",
   "name": "python",
   "nbconvert_exporter": "python",
   "pygments_lexer": "ipython3",
   "version": "3.11.3"
  }
 },
 "nbformat": 4,
 "nbformat_minor": 5
}
